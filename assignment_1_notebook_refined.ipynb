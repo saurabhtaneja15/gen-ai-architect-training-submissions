{
 "cells": [
  {
   "cell_type": "code",
   "execution_count": 1,
   "id": "1ff829c2",
   "metadata": {},
   "outputs": [],
   "source": [
    "import os, textwrap\n",
    "\n",
    "from openai import AzureOpenAI\n",
    "from langchain_core.prompts import ChatPromptTemplate\n",
    "from langchain_openai import AzureChatOpenAI\n",
    "from langchain_core.output_parsers import JsonOutputParser\n",
    "from langchain_community.tools.yahoo_finance_news import YahooFinanceNewsTool\n",
    "from langfuse import Langfuse\n",
    "\n",
    "OPENAI_API_VERSION = os.getenv(\"OPENAI_API_VERSION\")\n"
   ]
  },
  {
   "cell_type": "code",
   "execution_count": 2,
   "id": "56387d11",
   "metadata": {},
   "outputs": [],
   "source": [
    "client = AzureOpenAI(api_version=OPENAI_API_VERSION)"
   ]
  },
  {
   "cell_type": "code",
   "execution_count": 3,
   "id": "ffbf88e0",
   "metadata": {},
   "outputs": [],
   "source": [
    "lf = Langfuse(public_key=os.getenv(\"LANGFUSE_PUBLIC_KEY\"),\n",
    "              secret_key=os.getenv(\"LANGFUSE_SECRET_KEY\"),\n",
    "              host=os.getenv(\"LANGFUSE_HOST\"))"
   ]
  },
  {
   "cell_type": "code",
   "execution_count": 4,
   "id": "f314b617",
   "metadata": {},
   "outputs": [],
   "source": [
    "stock_ticker_system_prompt = \"you are a helpful financial data and stock market analysis assistant.\"\n",
    "\n",
    "stock_ticker_user_prompt = textwrap.dedent(\"\\nprovide the stock ticker symbol for the company in user {{query}}.\\njust provide the stock ticker symbol, along with the company name, nothing else.\\nif you can not figure out the stock ticker symbol, just return 'UNKNOWN'.\\n the output should be a JSON object with first field company_name and second field, stock_code.\")"
   ]
  },
  {
   "cell_type": "code",
   "execution_count": 5,
   "id": "bc64de56",
   "metadata": {},
   "outputs": [
    {
     "data": {
      "text/plain": [
       "<langfuse.model.ChatPromptClient at 0x10adeb560>"
      ]
     },
     "execution_count": 5,
     "metadata": {},
     "output_type": "execute_result"
    }
   ],
   "source": [
    "lf.create_prompt(\n",
    "    name='stock-ticker-chat-final',\n",
    "    type='chat',\n",
    "    prompt=[\n",
    "      { \"role\": \"system\", \"content\": stock_ticker_system_prompt },\n",
    "      { \"role\": \"user\", \"content\": stock_ticker_user_prompt },\n",
    "    ],\n",
    "    labels=['production'],\n",
    "    config={\"model\": \"gpt-4o-mini\", \"temperature\": 0, \"supported_language\": [\"en\"]}\n",
    ")"
   ]
  },
  {
   "cell_type": "code",
   "execution_count": 6,
   "id": "b3ee15bb",
   "metadata": {},
   "outputs": [
    {
     "data": {
      "text/plain": [
       "['query']"
      ]
     },
     "execution_count": 6,
     "metadata": {},
     "output_type": "execute_result"
    }
   ],
   "source": [
    "stock_ticker_prompt = lf.get_prompt(\"stock-ticker-chat-final\")\n",
    "stock_ticker_prompt.variables"
   ]
  },
  {
   "cell_type": "code",
   "execution_count": 7,
   "id": "ae353f7b",
   "metadata": {},
   "outputs": [
    {
     "data": {
      "text/plain": [
       "[{'role': 'system',\n",
       "  'content': 'you are a helpful financial data and stock market analysis assistant.'},\n",
       " {'role': 'user',\n",
       "  'content': \"\\nprovide the stock ticker symbol for the company in user {{query}}.\\njust provide the stock ticker symbol, along with the company name, nothing else.\\nif you can not figure out the stock ticker symbol, just return 'UNKNOWN'.\\n the output should be a JSON object with first field company_name and second field, stock_code.\"}]"
      ]
     },
     "execution_count": 7,
     "metadata": {},
     "output_type": "execute_result"
    }
   ],
   "source": [
    "stock_ticker_prompt.prompt"
   ]
  },
  {
   "cell_type": "code",
   "execution_count": 8,
   "id": "54211716",
   "metadata": {},
   "outputs": [],
   "source": [
    "\n",
    "prompt_temp = ChatPromptTemplate.from_messages([\n",
    "    (msg[\"role\"], msg[\"content\"].replace('{{query}}','{query}')) for msg in stock_ticker_prompt.prompt\n",
    "])\n",
    "\n",
    "model = AzureChatOpenAI(model='myllm')\n",
    "\n",
    "parser = JsonOutputParser()\n",
    "\n",
    "yahoo_news = YahooFinanceNewsTool()\n",
    "\n",
    "def ticker_and_news(output_dict):\n",
    "    news = yahoo_news.invoke(output_dict[\"stock_code\"])\n",
    "    return {\"company_name\": output_dict[\"company_name\"], \"stock_code\": output_dict[\"stock_code\"], \"finance_news\": news}"
   ]
  },
  {
   "cell_type": "code",
   "execution_count": 9,
   "id": "776613fa",
   "metadata": {},
   "outputs": [
    {
     "data": {
      "text/plain": [
       "{'company_name': 'Confluent, Inc.',\n",
       " 'stock_code': 'CFLT',\n",
       " 'finance_news': 'Buy 5 AI-Focused Mid-Cap Internet Software Stocks for a Solid Portfolio\\nPATH, FIVN, FSLY, CALX and CFLT are five AI-focused mid-cap stocks that show rising earnings potential and momentum for 2025.\\n\\nIs There Now An Opportunity In Confluent, Inc. (NASDAQ:CFLT)?\\nConfluent, Inc. ( NASDAQ:CFLT ), is not the largest company out there, but it saw a significant share price rise of 24...\\n\\n2 Reasons to Like CFLT (and 1 Not So Much)\\nWhat a brutal six months it’s been for Confluent. The stock has dropped 24.6% and now trades at $24.48, rattling many shareholders. This might have investors contemplating their next move.'}"
      ]
     },
     "execution_count": 9,
     "metadata": {},
     "output_type": "execute_result"
    }
   ],
   "source": [
    "intermediate_chain = prompt_temp | model | parser | ticker_and_news\n",
    "\n",
    "intermediate_chain.invoke({\"query\":\"WHAT IS confluent?\"})"
   ]
  },
  {
   "cell_type": "code",
   "execution_count": 10,
   "id": "e1862c09",
   "metadata": {},
   "outputs": [],
   "source": [
    "sentiment_analyzer_system_prompt = \"You are a helpful financial news sentimaent analyzer.\"\n",
    "\n",
    "sentiment_analyzer_user_prompt = \"\"\"For the given input dict with {{company_name}}, {{stock_code}}, and {{finance_news}} containing news articles about a company.\n",
    "                            For each news article in list extract the following as a JSON object with these fields:\n",
    "                            'company_name', 'stock_code', 'news_description', 'sentiment', 'people_names',\n",
    "                            'places_names', 'other_companies_referred', 'related_industries',\n",
    "                            'market_implications', 'confidence_score'.\n",
    "                            The field 'sentiment' should be one of 'positive', 'negative', or 'neutral'.\n",
    "                            If a field is not present, use an empty string or empty list as appropriate.\n",
    "                            Append the JSON objects for each news article and return the list.\"\"\""
   ]
  },
  {
   "cell_type": "code",
   "execution_count": 11,
   "id": "b95b9cc8",
   "metadata": {},
   "outputs": [
    {
     "data": {
      "text/plain": [
       "<langfuse.model.ChatPromptClient at 0x10bb4fe00>"
      ]
     },
     "execution_count": 11,
     "metadata": {},
     "output_type": "execute_result"
    }
   ],
   "source": [
    "lf.create_prompt(\n",
    "    name='sentiment-analyzer-chat-final',\n",
    "    type='chat',\n",
    "    prompt=[\n",
    "      { \"role\": \"system\", \"content\": sentiment_analyzer_system_prompt },\n",
    "      { \"role\": \"user\", \"content\": sentiment_analyzer_user_prompt },\n",
    "    ],\n",
    "    labels=['production'],\n",
    "    config={\"model\": \"gpt-4o-mini\", \"temperature\": 0, \"supported_language\": [\"en\"]}\n",
    ")"
   ]
  },
  {
   "cell_type": "code",
   "execution_count": 12,
   "id": "491433fc",
   "metadata": {},
   "outputs": [
    {
     "data": {
      "text/plain": [
       "['company_name', 'stock_code', 'finance_news']"
      ]
     },
     "execution_count": 12,
     "metadata": {},
     "output_type": "execute_result"
    }
   ],
   "source": [
    "sentiment_analyzer_prompt = lf.get_prompt(\"sentiment-analyzer-chat-final\")\n",
    "sentiment_analyzer_prompt.variables"
   ]
  },
  {
   "cell_type": "code",
   "execution_count": 13,
   "id": "7ce1f6e9",
   "metadata": {},
   "outputs": [
    {
     "data": {
      "text/plain": [
       "[{'role': 'system',\n",
       "  'content': 'You are a helpful financial news sentimaent analyzer.'},\n",
       " {'role': 'user',\n",
       "  'content': \"For the given input dict with {{company_name}}, {{stock_code}}, and {{finance_news}} containing news articles about a company.\\n                            For each news article in list extract the following as a JSON object with these fields:\\n                            'company_name', 'stock_code', 'news_description', 'sentiment', 'people_names',\\n                            'places_names', 'other_companies_referred', 'related_industries',\\n                            'market_implications', 'confidence_score'.\\n                            The field 'sentiment' should be one of 'positive', 'negative', or 'neutral'.\\n                            If a field is not present, use an empty string or empty list as appropriate.\\n                            Append the JSON objects for each news article and return the list.\"}]"
      ]
     },
     "execution_count": 13,
     "metadata": {},
     "output_type": "execute_result"
    }
   ],
   "source": [
    "sentiment_analyzer_prompt.prompt"
   ]
  },
  {
   "cell_type": "code",
   "execution_count": 14,
   "id": "88aa9996",
   "metadata": {},
   "outputs": [],
   "source": [
    "sentiment_analyzer_prompt_temp = ChatPromptTemplate.from_messages([\n",
    "    (\n",
    "        msg[\"role\"],\n",
    "        msg[\"content\"]\n",
    "            .replace(\"{{company_name}}\", \"{company_name}\")\n",
    "            .replace(\"{{stock_code}}\", \"{stock_code}\")\n",
    "            .replace(\"{{finance_news}}\", \"{finance_news}\")\n",
    "    )\n",
    "    for msg in sentiment_analyzer_prompt.prompt\n",
    "])"
   ]
  },
  {
   "cell_type": "code",
   "execution_count": 15,
   "id": "0a25b769",
   "metadata": {},
   "outputs": [
    {
     "data": {
      "text/plain": [
       "[{'company_name': 'Confluent, Inc.',\n",
       "  'stock_code': 'CFLT',\n",
       "  'news_description': 'Buy 5 AI-Focused Mid-Cap Internet Software Stocks for a Solid Portfolio. PATH, FIVN, FSLY, CALX and CFLT are five AI-focused mid-cap stocks that show rising earnings potential and momentum for 2025.',\n",
       "  'sentiment': 'positive',\n",
       "  'people_names': [],\n",
       "  'places_names': [],\n",
       "  'other_companies_referred': ['PATH', 'FIVN', 'FSLY', 'CALX'],\n",
       "  'related_industries': ['AI', 'Internet Software'],\n",
       "  'market_implications': 'Potential for solid portfolio growth',\n",
       "  'confidence_score': 0.75},\n",
       " {'company_name': 'Confluent, Inc.',\n",
       "  'stock_code': 'CFLT',\n",
       "  'news_description': 'Confluent, Inc. (NASDAQ:CFLT), is not the largest company out there, but it saw a significant share price rise of 24...',\n",
       "  'sentiment': 'positive',\n",
       "  'people_names': [],\n",
       "  'places_names': [],\n",
       "  'other_companies_referred': [],\n",
       "  'related_industries': [],\n",
       "  'market_implications': 'Positive price movement indicates potential investor interest',\n",
       "  'confidence_score': 0.7},\n",
       " {'company_name': 'Confluent, Inc.',\n",
       "  'stock_code': 'CFLT',\n",
       "  'news_description': 'What a brutal six months it’s been for Confluent. The stock has dropped 24.6% and now trades at $24.48, rattling many shareholders. This might have investors contemplating their next move.',\n",
       "  'sentiment': 'negative',\n",
       "  'people_names': [],\n",
       "  'places_names': [],\n",
       "  'other_companies_referred': [],\n",
       "  'related_industries': [],\n",
       "  'market_implications': 'Investor concern over stock decline',\n",
       "  'confidence_score': 0.8}]"
      ]
     },
     "execution_count": 15,
     "metadata": {},
     "output_type": "execute_result"
    }
   ],
   "source": [
    "final_chain = prompt_temp | model | parser | ticker_and_news | sentiment_analyzer_prompt_temp | model | parser\n",
    "\n",
    "final_chain.invoke({\"query\":\"WHAT IS confluent?\"})"
   ]
  }
 ],
 "metadata": {
  "kernelspec": {
   "display_name": "gen-ai",
   "language": "python",
   "name": "python3"
  },
  "language_info": {
   "codemirror_mode": {
    "name": "ipython",
    "version": 3
   },
   "file_extension": ".py",
   "mimetype": "text/x-python",
   "name": "python",
   "nbconvert_exporter": "python",
   "pygments_lexer": "ipython3",
   "version": "3.12.11"
  }
 },
 "nbformat": 4,
 "nbformat_minor": 5
}
